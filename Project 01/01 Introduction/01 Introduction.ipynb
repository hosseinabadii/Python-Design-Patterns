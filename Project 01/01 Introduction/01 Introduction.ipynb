{
 "cells": [
  {
   "attachments": {},
   "cell_type": "markdown",
   "id": "7f49eef3-236d-4bad-9cab-967277cba2a8",
   "metadata": {},
   "source": [
    "## Design Patterns Types:\n",
    "- Creational --> Polymorphism\n",
    "- Structural --> Inheritance -- relationships\n",
    "- Behavioral --> Methods -- interactions"
   ]
  }
 ],
 "metadata": {
  "kernelspec": {
   "display_name": "Python 3 (ipykernel)",
   "language": "python",
   "name": "python3"
  },
  "language_info": {
   "codemirror_mode": {
    "name": "ipython",
    "version": 3
   },
   "file_extension": ".py",
   "mimetype": "text/x-python",
   "name": "python",
   "nbconvert_exporter": "python",
   "pygments_lexer": "ipython3",
   "version": "3.9.16"
  }
 },
 "nbformat": 4,
 "nbformat_minor": 5
}
